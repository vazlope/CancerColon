{
 "cells": [
  {
   "cell_type": "code",
   "execution_count": 1,
   "metadata": {},
   "outputs": [],
   "source": [
    "import pandas as pd\n",
    "import sys\n",
    "from datetime import datetime\n",
    "import numpy as np\n",
    "from DataScience.Utils import *\n",
    "import seaborn as sns\n",
    "import matplotlib.pyplot as plt\n",
    "from sklearn.preprocessing import StandardScaler\n",
    "from sklearn.model_selection import train_test_split\n",
    "from sklearn.tree import DecisionTreeClassifier\n",
    "from sklearn.preprocessing import OneHotEncoder\n",
    "from sklearn.metrics import accuracy_score\n",
    "import matplotlib.pyplot as plt\n",
    "from sklearn.tree import plot_tree\n",
    "\n",
    "version = 'V3_ConProtocolo'\n",
    "\n",
    "path_minado = \"DataVisualization/Metricas_minadas/trace_activities.csv\"\n",
    "path_orig = \"Salida_script/RiberaSalud_\"+str(version)+\"_spanish.csv\""
   ]
  },
  {
   "cell_type": "code",
   "execution_count": 2,
   "metadata": {},
   "outputs": [],
   "source": [
    "ribera = pd.read_csv(path_minado, sep = ',')\n",
    "ribera_dicc = {'Ribera V3':ribera}"
   ]
  },
  {
   "cell_type": "code",
   "execution_count": 3,
   "metadata": {},
   "outputs": [
    {
     "name": "stdout",
     "output_type": "stream",
     "text": [
      "\n",
      "- Ribera V3:\n",
      "    Ribera V3 -> (2375, 49)\n",
      "    WARNING! -> El df Ribera V3 no tiene una columna llamada CodPaciente\n"
     ]
    }
   ],
   "source": [
    "#Información dataframes\n",
    "for df_name, df in zip(ribera_dicc.keys() , ribera_dicc.values()):\n",
    "    df_info(df_name, df, atrib_name = 'CodPaciente', only_basics= True)"
   ]
  },
  {
   "cell_type": "code",
   "execution_count": 4,
   "metadata": {},
   "outputs": [
    {
     "data": {
      "text/plain": [
       "Index(['traceId', 'index', 'activity', 'start', 'end', 'duration',\n",
       "       'ADAdministrado', 'ADMotivoNoAdmon', 'CodEpisodio', 'CodIntervencion',\n",
       "       'CodPrimerEpisodio', 'DuracionAdmMedCirugia', 'HabitacionQuirofano',\n",
       "       'INGCopiaTratamientoIngreso', 'INGDesTipoIngreso', 'MEDCadaXHoras',\n",
       "       'MEDCondicion', 'MEDFecIniAdmon', 'MEDNumTomasDia', 'MedicalServiceId',\n",
       "       'POSCadaXHoras', 'POSCondicion', 'POSDescMedicamento', 'POSDiaFinal',\n",
       "       'POSDiaInicial', 'POSDiasSemana', 'POSDosis', 'POSDosisDetalle',\n",
       "       'POSDuracion', 'POSEliminado', 'POSFrecuenciaDosis',\n",
       "       'POSInstruccionesPaciente', 'POSNumTomasDia', 'POSUrgente',\n",
       "       'PREOPCirujano', 'PREOPCodIntervencion', 'PREOPCodProcedimiento',\n",
       "       'PREOPDescDiagnostico', 'PREOPDescServDestino', 'PREOPDescripcion',\n",
       "       'PREOPTAnestesia', 'PREOPTipoEpisodioIntervencion',\n",
       "       'PREOPTipoEpisodioOrigen', 'PROTCuidados', 'Perdidaprotocolo1',\n",
       "       'Perdidaprotocolo2', 'Reservaquirofano', 'VariantId',\n",
       "       'Variosquirofano'],\n",
       "      dtype='object')"
      ]
     },
     "execution_count": 4,
     "metadata": {},
     "output_type": "execute_result"
    }
   ],
   "source": [
    "ribera.columns"
   ]
  },
  {
   "cell_type": "code",
   "execution_count": 5,
   "metadata": {},
   "outputs": [],
   "source": [
    "def conteo_atributos_Traza(df, atribb):\n",
    "    df_grouped = df.groupby(atribb)['CodPaciente'].nunique()\n",
    "    print(df_grouped.apply(lambda x : f'{x} trazas ({((x/df.CodPaciente.nunique())*100):.2f}%)'))\n",
    "    print('........................................................................................................................................................\\n')\n",
    "    \n",
    "lista_atributos_categoricos = ['Actividad', 'INGDesTipoIngreso', 'INGCopiaTratamientoIngreso',\n",
    "            'ADAdministrado','ADMotivoNoAdmon', 'MEDCadaXHoras', 'MEDNumTomasDia', 'MEDCondicion',\n",
    "            'PREOPTipoEpisodioIntervencion','PREOPDescripcion', 'PREOPDescDiagnostico', 'PREOPTAnestesia','PREOPDescServDestino',\n",
    "            'PREOPCirujano', 'Reserva_quirofano', 'Varios_quirofano', 'Habitacion Quirofano', 'PROTCuidados','POSDescMedicamento',\n",
    "            'POSDosisDetalle','POSInstruccionesPaciente',\n",
    "            'Perdida_protocolo 1', 'Perdida_protocolo 2']\n",
    "\n",
    "\n",
    "# Guardar la salida original de stdout para poder restaurarla más tarde\n",
    "stdout_original = sys.stdout\n",
    "# Abrir un archivo en modo de escritura. Si el archivo no existe, se creará.\n",
    "with open('Conteo_atributos_porTraza.txt', 'w') as f:\n",
    "    # Redirigir stdout al archivo\n",
    "    sys.stdout = f\n",
    "    # Llamar a la función cuya salida queremos capturar\n",
    "    for atrib in lista_atributos_categoricos:\n",
    "        conteo_atributos_Traza(ribera, atrib)\n",
    "    # Opcional: cualquier otra cosa que imprimas aquí también se escribirá en el archivo\n",
    "# Restaurar stdout a su estado original\n",
    "sys.stdout = stdout_original\n",
    "print(\"Esta salida se mostrará en la terminal.\")"
   ]
  },
  {
   "cell_type": "markdown",
   "metadata": {},
   "source": [
    "##### EDA - RIBERA SALUD V3\n",
    "Preguntas importantes a hacerse en este dataset\n",
    " - Pregunta 1: \n",
    " - Pregunta 2:"
   ]
  },
  {
   "cell_type": "code",
   "execution_count": 5,
   "metadata": {},
   "outputs": [
    {
     "ename": "KeyError",
     "evalue": "'Perdida_protocolo 1'",
     "output_type": "error",
     "traceback": [
      "\u001b[1;31m---------------------------------------------------------------------------\u001b[0m",
      "\u001b[1;31mKeyError\u001b[0m                                  Traceback (most recent call last)",
      "File \u001b[1;32mc:\\Users\\pablo\\anaconda3\\lib\\site-packages\\pandas\\core\\indexes\\base.py:3621\u001b[0m, in \u001b[0;36mIndex.get_loc\u001b[1;34m(self, key, method, tolerance)\u001b[0m\n\u001b[0;32m   3620\u001b[0m \u001b[38;5;28;01mtry\u001b[39;00m:\n\u001b[1;32m-> 3621\u001b[0m     \u001b[38;5;28;01mreturn\u001b[39;00m \u001b[38;5;28;43mself\u001b[39;49m\u001b[38;5;241;43m.\u001b[39;49m\u001b[43m_engine\u001b[49m\u001b[38;5;241;43m.\u001b[39;49m\u001b[43mget_loc\u001b[49m\u001b[43m(\u001b[49m\u001b[43mcasted_key\u001b[49m\u001b[43m)\u001b[49m\n\u001b[0;32m   3622\u001b[0m \u001b[38;5;28;01mexcept\u001b[39;00m \u001b[38;5;167;01mKeyError\u001b[39;00m \u001b[38;5;28;01mas\u001b[39;00m err:\n",
      "File \u001b[1;32mc:\\Users\\pablo\\anaconda3\\lib\\site-packages\\pandas\\_libs\\index.pyx:136\u001b[0m, in \u001b[0;36mpandas._libs.index.IndexEngine.get_loc\u001b[1;34m()\u001b[0m\n",
      "File \u001b[1;32mc:\\Users\\pablo\\anaconda3\\lib\\site-packages\\pandas\\_libs\\index.pyx:163\u001b[0m, in \u001b[0;36mpandas._libs.index.IndexEngine.get_loc\u001b[1;34m()\u001b[0m\n",
      "File \u001b[1;32mpandas\\_libs\\hashtable_class_helper.pxi:5198\u001b[0m, in \u001b[0;36mpandas._libs.hashtable.PyObjectHashTable.get_item\u001b[1;34m()\u001b[0m\n",
      "File \u001b[1;32mpandas\\_libs\\hashtable_class_helper.pxi:5206\u001b[0m, in \u001b[0;36mpandas._libs.hashtable.PyObjectHashTable.get_item\u001b[1;34m()\u001b[0m\n",
      "\u001b[1;31mKeyError\u001b[0m: 'Perdida_protocolo 1'",
      "\nThe above exception was the direct cause of the following exception:\n",
      "\u001b[1;31mKeyError\u001b[0m                                  Traceback (most recent call last)",
      "Input \u001b[1;32mIn [5]\u001b[0m, in \u001b[0;36m<cell line: 2>\u001b[1;34m()\u001b[0m\n\u001b[0;32m      1\u001b[0m \u001b[38;5;66;03m# Convertir la columna booleana a numérica\u001b[39;00m\n\u001b[1;32m----> 2\u001b[0m ribera[\u001b[38;5;124m'\u001b[39m\u001b[38;5;124mPerdida_protocolo 1\u001b[39m\u001b[38;5;124m'\u001b[39m] \u001b[38;5;241m=\u001b[39m \u001b[43mribera\u001b[49m\u001b[43m[\u001b[49m\u001b[38;5;124;43m'\u001b[39;49m\u001b[38;5;124;43mPerdida_protocolo 1\u001b[39;49m\u001b[38;5;124;43m'\u001b[39;49m\u001b[43m]\u001b[49m\u001b[38;5;241m.\u001b[39mastype(\u001b[38;5;124m'\u001b[39m\u001b[38;5;124mInt64\u001b[39m\u001b[38;5;124m'\u001b[39m)\n\u001b[0;32m      3\u001b[0m \u001b[38;5;66;03m#Obtenemos los atributos numericos\u001b[39;00m\n\u001b[0;32m      4\u001b[0m columnas_categoricas \u001b[38;5;241m=\u001b[39m ribera\u001b[38;5;241m.\u001b[39mselect_dtypes(include\u001b[38;5;241m=\u001b[39m[\u001b[38;5;124m'\u001b[39m\u001b[38;5;124mobject\u001b[39m\u001b[38;5;124m'\u001b[39m, \u001b[38;5;124m'\u001b[39m\u001b[38;5;124mbool\u001b[39m\u001b[38;5;124m'\u001b[39m])\u001b[38;5;241m.\u001b[39mcolumns\n",
      "File \u001b[1;32mc:\\Users\\pablo\\anaconda3\\lib\\site-packages\\pandas\\core\\frame.py:3505\u001b[0m, in \u001b[0;36mDataFrame.__getitem__\u001b[1;34m(self, key)\u001b[0m\n\u001b[0;32m   3503\u001b[0m \u001b[38;5;28;01mif\u001b[39;00m \u001b[38;5;28mself\u001b[39m\u001b[38;5;241m.\u001b[39mcolumns\u001b[38;5;241m.\u001b[39mnlevels \u001b[38;5;241m>\u001b[39m \u001b[38;5;241m1\u001b[39m:\n\u001b[0;32m   3504\u001b[0m     \u001b[38;5;28;01mreturn\u001b[39;00m \u001b[38;5;28mself\u001b[39m\u001b[38;5;241m.\u001b[39m_getitem_multilevel(key)\n\u001b[1;32m-> 3505\u001b[0m indexer \u001b[38;5;241m=\u001b[39m \u001b[38;5;28;43mself\u001b[39;49m\u001b[38;5;241;43m.\u001b[39;49m\u001b[43mcolumns\u001b[49m\u001b[38;5;241;43m.\u001b[39;49m\u001b[43mget_loc\u001b[49m\u001b[43m(\u001b[49m\u001b[43mkey\u001b[49m\u001b[43m)\u001b[49m\n\u001b[0;32m   3506\u001b[0m \u001b[38;5;28;01mif\u001b[39;00m is_integer(indexer):\n\u001b[0;32m   3507\u001b[0m     indexer \u001b[38;5;241m=\u001b[39m [indexer]\n",
      "File \u001b[1;32mc:\\Users\\pablo\\anaconda3\\lib\\site-packages\\pandas\\core\\indexes\\base.py:3623\u001b[0m, in \u001b[0;36mIndex.get_loc\u001b[1;34m(self, key, method, tolerance)\u001b[0m\n\u001b[0;32m   3621\u001b[0m     \u001b[38;5;28;01mreturn\u001b[39;00m \u001b[38;5;28mself\u001b[39m\u001b[38;5;241m.\u001b[39m_engine\u001b[38;5;241m.\u001b[39mget_loc(casted_key)\n\u001b[0;32m   3622\u001b[0m \u001b[38;5;28;01mexcept\u001b[39;00m \u001b[38;5;167;01mKeyError\u001b[39;00m \u001b[38;5;28;01mas\u001b[39;00m err:\n\u001b[1;32m-> 3623\u001b[0m     \u001b[38;5;28;01mraise\u001b[39;00m \u001b[38;5;167;01mKeyError\u001b[39;00m(key) \u001b[38;5;28;01mfrom\u001b[39;00m \u001b[38;5;21;01merr\u001b[39;00m\n\u001b[0;32m   3624\u001b[0m \u001b[38;5;28;01mexcept\u001b[39;00m \u001b[38;5;167;01mTypeError\u001b[39;00m:\n\u001b[0;32m   3625\u001b[0m     \u001b[38;5;66;03m# If we have a listlike key, _check_indexing_error will raise\u001b[39;00m\n\u001b[0;32m   3626\u001b[0m     \u001b[38;5;66;03m#  InvalidIndexError. Otherwise we fall through and re-raise\u001b[39;00m\n\u001b[0;32m   3627\u001b[0m     \u001b[38;5;66;03m#  the TypeError.\u001b[39;00m\n\u001b[0;32m   3628\u001b[0m     \u001b[38;5;28mself\u001b[39m\u001b[38;5;241m.\u001b[39m_check_indexing_error(key)\n",
      "\u001b[1;31mKeyError\u001b[0m: 'Perdida_protocolo 1'"
     ]
    }
   ],
   "source": [
    "# Convertir la columna booleana a numérica\n",
    "ribera['Perdida_protocolo 1'] = ribera['Perdida_protocolo 1'].astype('Int64')\n",
    "#Obtenemos los atributos numericos\n",
    "columnas_categoricas = ribera.select_dtypes(include=['object', 'bool']).columns\n",
    "columnas_numericas = ribera.select_dtypes(include=['int64', 'float64']).columns\n",
    "ribera_categoricas = ribera[columnas_categoricas]\n",
    "ribera_numericas = ribera[columnas_numericas]\n",
    "\n",
    "ribera_categoricas.drop(['Perdida_protocolo 2', 'CodEpisodio' ,'CodPrimerEpisodio' , 'FECHA',  'FECHA_FIN', 'MEDFecIniAdmon' ], axis = 1, inplace=True)\n",
    "ribera_numericas.info()"
   ]
  },
  {
   "cell_type": "code",
   "execution_count": 6,
   "metadata": {},
   "outputs": [
    {
     "ename": "NameError",
     "evalue": "name 'ribera_numericas' is not defined",
     "output_type": "error",
     "traceback": [
      "\u001b[1;31m---------------------------------------------------------------------------\u001b[0m",
      "\u001b[1;31mNameError\u001b[0m                                 Traceback (most recent call last)",
      "Input \u001b[1;32mIn [6]\u001b[0m, in \u001b[0;36m<cell line: 4>\u001b[1;34m()\u001b[0m\n\u001b[0;32m      1\u001b[0m \u001b[38;5;66;03m#ribera = pd.get_dummies(ribera)\u001b[39;00m\n\u001b[0;32m      2\u001b[0m \u001b[38;5;66;03m#preprocesado\u001b[39;00m\n\u001b[0;32m      3\u001b[0m \u001b[38;5;66;03m# Reemplazar infinitos por un valor numérico grande o por NaN para luego llenarlo como arriba\u001b[39;00m\n\u001b[1;32m----> 4\u001b[0m \u001b[43mribera_numericas\u001b[49m\u001b[38;5;241m.\u001b[39mreplace([np\u001b[38;5;241m.\u001b[39minf, \u001b[38;5;241m-\u001b[39mnp\u001b[38;5;241m.\u001b[39minf], np\u001b[38;5;241m.\u001b[39mnan, inplace\u001b[38;5;241m=\u001b[39m\u001b[38;5;28;01mTrue\u001b[39;00m)\n\u001b[0;32m      5\u001b[0m \u001b[38;5;66;03m# Para columnas numéricas, puedes llenar los NaN con la media o la mediana\u001b[39;00m\n\u001b[0;32m      6\u001b[0m \u001b[38;5;28;01mfor\u001b[39;00m columna \u001b[38;5;129;01min\u001b[39;00m ribera_numericas\u001b[38;5;241m.\u001b[39mcolumns:\n",
      "\u001b[1;31mNameError\u001b[0m: name 'ribera_numericas' is not defined"
     ]
    }
   ],
   "source": [
    "\n",
    "#ribera = pd.get_dummies(ribera)\n",
    "#preprocesado\n",
    "# Reemplazar infinitos por un valor numérico grande o por NaN para luego llenarlo como arriba\n",
    "ribera_numericas.replace([np.inf, -np.inf], np.nan, inplace=True)\n",
    "# Para columnas numéricas, puedes llenar los NaN con la media o la mediana\n",
    "for columna in ribera_numericas.columns:\n",
    "    \n",
    "    ribera_numericas[columna].fillna(ribera_numericas[columna].median(), inplace=True)\n",
    "    if ribera_numericas[columna].dtype == 'float64':\n",
    "        ribera_numericas[columna].astype('float16')\n",
    "X = ribera_numericas.dropna(axis = 1, how = 'all')\n",
    "#Escalar datos\n",
    "scaler = StandardScaler()\n",
    "ribera_escalado = scaler.fit_transform(ribera.select_dtypes(include=[np.number]))\n",
    "# Verificar si aún existen NaN o infinitos en X\n",
    "print(\"NaN en X:\", ribera_numericas.isnull().any().any())\n",
    "print(\"\\nfloat64 en X:\", ribera_numericas.info())\n",
    "print(\"\\nInfinitos en X:\", np.isinf(ribera_numericas.select_dtypes(include=[np.number])).any().any())"
   ]
  },
  {
   "cell_type": "code",
   "execution_count": 7,
   "metadata": {},
   "outputs": [
    {
     "ename": "NameError",
     "evalue": "name 'ribera_numericas' is not defined",
     "output_type": "error",
     "traceback": [
      "\u001b[1;31m---------------------------------------------------------------------------\u001b[0m",
      "\u001b[1;31mNameError\u001b[0m                                 Traceback (most recent call last)",
      "Input \u001b[1;32mIn [7]\u001b[0m, in \u001b[0;36m<cell line: 3>\u001b[1;34m()\u001b[0m\n\u001b[0;32m      1\u001b[0m \u001b[38;5;66;03m#Realizamos una correlacion a todo el dataset (solo columnas numericas)\u001b[39;00m\n\u001b[0;32m      2\u001b[0m \u001b[38;5;66;03m#Elimino valores nulos\u001b[39;00m\n\u001b[1;32m----> 3\u001b[0m \u001b[38;5;28mprint\u001b[39m(\u001b[43mribera_numericas\u001b[49m\u001b[38;5;241m.\u001b[39misnull()\u001b[38;5;241m.\u001b[39mvalues\u001b[38;5;241m.\u001b[39many())\n\u001b[0;32m      4\u001b[0m ribera_numericas_limpio \u001b[38;5;241m=\u001b[39m ribera_numericas\u001b[38;5;241m.\u001b[39mfillna(\u001b[38;5;241m0\u001b[39m)\n\u001b[0;32m      5\u001b[0m \u001b[38;5;28mprint\u001b[39m(ribera_numericas_limpio\u001b[38;5;241m.\u001b[39misnull()\u001b[38;5;241m.\u001b[39mvalues\u001b[38;5;241m.\u001b[39many())\n",
      "\u001b[1;31mNameError\u001b[0m: name 'ribera_numericas' is not defined"
     ]
    }
   ],
   "source": [
    "#Realizamos una correlacion a todo el dataset (solo columnas numericas)\n",
    "#Elimino valores nulos\n",
    "print(ribera_numericas.isnull().values.any())\n",
    "ribera_numericas_limpio = ribera_numericas.fillna(0)\n",
    "print(ribera_numericas_limpio.isnull().values.any())\n",
    "corre = ribera_numericas_limpio.corr()\n",
    "#print(corre)\n",
    "plt.figure(figsize=(30, 15))\n",
    "sns.heatmap(corre, annot=True, cmap='coolwarm', fmt=\".2f\", linewidths=.5)\n",
    "plt.show()"
   ]
  },
  {
   "cell_type": "code",
   "execution_count": null,
   "metadata": {},
   "outputs": [],
   "source": [
    "#Realizamos una correlacion a dataset con perdida de protocolo (solo columnas numericas)\n",
    "#Elimino valores nulos\n",
    "print(ribera_numericas.isnull().values.any())\n",
    "ribera_numericas_limpio = ribera_numericas#.fillna(1)\n",
    "print(ribera_numericas_limpio.isnull().values.any())\n",
    "corre = ribera_numericas_limpio.corr()\n",
    "#print(corre)\n",
    "plt.figure(figsize=(30, 15))\n",
    "sns.heatmap(corre, annot=True, cmap='coolwarm', fmt=\".2f\", linewidths=.5)\n",
    "plt.show()"
   ]
  },
  {
   "cell_type": "code",
   "execution_count": null,
   "metadata": {},
   "outputs": [],
   "source": [
    "print(ribera.ADAdministrado.unique())\n",
    "#med_sin1 = medicamentos.query('ADAdministrado != 0').count()\n",
    "# ADAdministrado, ADMotivoNoAdmon, MEDCadaXHoras, MEDNumTomasDia, MEDCondicion\n",
    "print(ribera.groupby('MEDNumTomasDia')['MEDCadaXHoras'].describe(), '\\n----------------------------------------------------------------------------------')\n",
    "print(ribera.groupby('MEDNumTomasDia')['MEDCondicion'].describe(), '\\n----------------------------------------------------------------------------------')\n",
    "print(ribera.groupby('MEDNumTomasDia')['CodPaciente'].describe(), '\\n----------------------------------------------------------------------------------')"
   ]
  },
  {
   "cell_type": "markdown",
   "metadata": {},
   "source": [
    "### Analisis perdida de protocolo"
   ]
  },
  {
   "cell_type": "code",
   "execution_count": null,
   "metadata": {},
   "outputs": [],
   "source": [
    "resultante_1 = ribera.groupby('Perdida_protocolo 1')['CodPaciente'].nunique()\n",
    "print('Perdida protocolo solo tiempo:\\n',resultante_1)\n",
    "print(f'Porcentaje de Perdidas de protocolo {(resultante_1[1] / resultante_1[0])*100:.2f}%')\n",
    "\n",
    "resultante_2 = ribera.groupby('Perdida_protocolo 2')['CodPaciente'].nunique()\n",
    "print('\\nPerdida protocolo tiempo y otros condicionantes:\\n',resultante_2)\n",
    "print(f'Porcentaje de Perdidas de protocolo  {(resultante_2[1] / resultante_2[0])*100:.2f}%')"
   ]
  },
  {
   "cell_type": "code",
   "execution_count": null,
   "metadata": {},
   "outputs": [],
   "source": [
    "ribera = pd.read_csv(path_minado, sep = ',')\n",
    "ribera_dicc = {'Ribera V3':ribera}\n",
    "ribera.columns"
   ]
  },
  {
   "cell_type": "code",
   "execution_count": null,
   "metadata": {},
   "outputs": [],
   "source": [
    "#Obtenemos los atributos numericos\n",
    "columnas_categoricas = ribera.select_dtypes(include=['object', 'bool']).columns\n",
    "columnas_numericas = ribera.select_dtypes(include=['int64', 'float64']).columns\n",
    "ribera_categoricas = ribera[columnas_categoricas]\n",
    "ribera_numericas = ribera[columnas_numericas]\n",
    "\n",
    "#ribera_categoricas = ribera_categoricas.drop(['PREOPCodProcedimiento','PREOPTAnestesia', 'traceId', 'Perdidaprotocolo2', 'PROTCuidados', 'CodEpisodio' ,'CodPrimerEpisodio' , 'start',  'end', 'MEDFecIniAdmon', 'VariantId', 'Variosquirofano', 'Reservaquirofano'], axis = 1)\n",
    "ribera_numericas = ribera_numericas.drop(['DuracionAdmMedCirugia', 'index'], axis = 1)\n",
    "ribera_fix = ribera.drop(['PREOPCodIntervencion', 'duration', 'PREOPCodProcedimiento', 'PREOPTAnestesia','CodIntervencion', 'Perdidaprotocolo2','PROTCuidados','CodEpisodio' ,'CodPrimerEpisodio' , 'start',  'end', 'MEDFecIniAdmon', 'VariantId', 'Variosquirofano', 'DuracionAdmMedCirugia', 'index', 'Reservaquirofano'], axis = 1)\n",
    "ribera_fix.columns"
   ]
  },
  {
   "cell_type": "code",
   "execution_count": null,
   "metadata": {},
   "outputs": [],
   "source": [
    "#df_perdidaprotocolo1 = ribera.loc[ribera['Perdida_protocolo 1'] == True]\n",
    "import math\n",
    "def perdida_protocolo_relaciones(df, atrib, detalle = False):\n",
    "\n",
    "    if detalle == False:\n",
    "        if atrib != 'traceId' and atrib != 'Perdidaprotocolo1':\n",
    "            print(f\"Trazas unicas cada columna:\\n{df[atrib].nunique()}\")\n",
    "            #valores atributo con perdida de protocolo\n",
    "            atributo_perdida = df.loc[df['Perdidaprotocolo1'] == 1]\n",
    "            #print(f\"Trazas unicas con perdida de protocolo{atributo_perdida.groupby(atrib)['traceId'].nunique()}\\n\") #({(atributo_perdida.groupby(atrib)['traceId'].nunique()/df['traceId'].nunique())*100:.2f}%)\\n\")\n",
    "    \n",
    "    if detalle:\n",
    "        try:\n",
    "            if df[atrib].isna().any():\n",
    "                #print('tiene nulos')\n",
    "                valores_atributo = df[atrib].unique().tolist()\n",
    "                valores_atributo = valores_atributo[1:]\n",
    "            else:\n",
    "                valores_atributo = df[atrib].unique().tolist()\n",
    "            #print(valores_atributo)\n",
    "            for values in valores_atributo:\n",
    "                #valores atributo normal\n",
    "                atributo = df.loc[df[atrib] == values]\n",
    "                print(f\"El valor #{values}# de la columna #{atrib}# tiene {atributo['traceId'].nunique()} trazas unicas ({(atributo['traceId'].nunique()/df['traceId'].nunique())*100:.2f}%)\")\n",
    "                #valores atributo con perdida de protocolo\n",
    "                atributo_perdida = atributo.loc[atributo['Perdidaprotocolo1'] == 1]\n",
    "                print(f\"El valor {values} de la columna {atrib} tiene {atributo_perdida['traceId'].nunique()} trazas unicas con perdida de protocolo ({(atributo_perdida['traceId'].nunique()/atributo['traceId'].nunique())*100:.2f}%)\\n\")\n",
    "        except KeyError:\n",
    "            print(atrib)\n",
    "        except ZeroDivisionError:\n",
    "            pass\n",
    "\n",
    "columnas = ribera_fix.columns.to_list()\n",
    "#ribera_medicamento = ribera_fix.groupby('traceId')['activity'] == 'Administración de Medicamentos'\n",
    "\n",
    "for columna in columnas:\n",
    "    print(columna,': \\n')\n",
    "    perdida_protocolo_relaciones(ribera_fix, columna, detalle= True)\n",
    "\n",
    "    #print(ribera_fix[columna].value_counts())"
   ]
  },
  {
   "cell_type": "code",
   "execution_count": null,
   "metadata": {},
   "outputs": [],
   "source": [
    "lista = [None, 1.0, 0.0]\n",
    "lista"
   ]
  }
 ],
 "metadata": {
  "kernelspec": {
   "display_name": "base",
   "language": "python",
   "name": "python3"
  },
  "language_info": {
   "codemirror_mode": {
    "name": "ipython",
    "version": 3
   },
   "file_extension": ".py",
   "mimetype": "text/x-python",
   "name": "python",
   "nbconvert_exporter": "python",
   "pygments_lexer": "ipython3",
   "version": "3.9.12"
  }
 },
 "nbformat": 4,
 "nbformat_minor": 2
}
