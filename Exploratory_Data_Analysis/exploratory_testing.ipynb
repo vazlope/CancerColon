{
 "cells": [
  {
   "cell_type": "code",
   "execution_count": 8,
   "metadata": {},
   "outputs": [],
   "source": [
    "import pandas as pd\n",
    "from datetime import datetime\n",
    "#from DataScience.Utils import utils_ribera as utils\n",
    "version = 'V3_ConProtocoloyMedic'\n",
    "#path_minado = \"Data/mined_data/trace_activities.csv\"\n",
    "path_orig = \"C:/Users/pablo/Desktop/INVERBIS/2024/Ribera_Salud/Data/processed_data/RiberaSalud_\"+str(version)+\".csv\"\n",
    "\n",
    "\n",
    "def get_df(path):\n",
    "    df = pd.read_csv(path, sep = ';')\n",
    "    posology = pd.read_csv('C:/Users/pablo/Desktop/INVERBIS/2024/Ribera_Salud/Data/raw_data/Pantalla_Mantenimiento_Protocolos_V1.csv', sep = ';')\n",
    "    return df, posology\n"
   ]
  }
 ],
 "metadata": {
  "kernelspec": {
   "display_name": "base",
   "language": "python",
   "name": "python3"
  },
  "language_info": {
   "codemirror_mode": {
    "name": "ipython",
    "version": 3
   },
   "file_extension": ".py",
   "mimetype": "text/x-python",
   "name": "python",
   "nbconvert_exporter": "python",
   "pygments_lexer": "ipython3",
   "version": "3.9.12"
  }
 },
 "nbformat": 4,
 "nbformat_minor": 2
}
