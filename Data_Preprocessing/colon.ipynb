{
 "cells": [
  {
   "cell_type": "code",
   "execution_count": 1,
   "metadata": {},
   "outputs": [],
   "source": [
    "import pandas as pd\n",
    "from datetime import datetime, timedelta\n",
    "version_in = 'V0_1'\n",
    "version_out = 'V0_3'\n",
    "path_gen = \"/home/pol/Escritorio/INVERBIS/2024/CancerColon/\"\n",
    "path_1 = path_gen + \"Data/processed_data/CancerColon_\"+str(version_in)+\".csv\"\n",
    "colon = pd.read_csv(path_1, sep= ';')"
   ]
  },
  {
   "cell_type": "code",
   "execution_count": 2,
   "metadata": {},
   "outputs": [
    {
     "name": "stdout",
     "output_type": "stream",
     "text": [
      "(13572, 34)\n"
     ]
    },
    {
     "data": {
      "text/plain": [
       "Index(['NASI seudonimizado', 'Subg. químico terapéutico ATC disp',\n",
       "       'Principio activo ATC disp', 'Prezo PVP nomen disp', 'FECHA',\n",
       "       'FECHA_FIN', 'Actividad', 'Hospital', 'Motivo saída', 'PAC',\n",
       "       'Lugar asistencia', 'Motivo asistencia', 'Cód. CIAP 2', 'Desc. CIAP 2',\n",
       "       'Orixe', 'Lista diagnósticos', 'Lista procedementos', 'Prioridade',\n",
       "       'GNA', 'Cola', 'Tipo intervención', 'Orixe PM/Diagnóstico',\n",
       "       'PM/Diagnóstico', 'Cód. cat. CIE', 'Categoría CIE', 'Subcategoría CIE',\n",
       "       'CENTRO', 'SERVICIO', 'MEDICO', 'TIPO MUESTRA', 'MUESTRA',\n",
       "       'DESCRIPCION', 'SNOMED', 'DATA EXTRACCIÓN'],\n",
       "      dtype='object')"
      ]
     },
     "execution_count": 2,
     "metadata": {},
     "output_type": "execute_result"
    }
   ],
   "source": [
    "print(colon.shape)\n",
    "colon.columns"
   ]
  },
  {
   "cell_type": "code",
   "execution_count": 3,
   "metadata": {},
   "outputs": [
    {
     "data": {
      "text/plain": [
       "array(['Ingreso Hospitalizacion', 'Cirugia', 'Inicio episodio',\n",
       "       'Alta Hospitalizacion', 'Lista de Espera quirurgica - Inclusion',\n",
       "       'Dispensación Farmacia Oncologica',\n",
       "       'Asistencia a punto de Atención Continuada', 'Defunción',\n",
       "       'Prueba laboratorio (APA)'], dtype=object)"
      ]
     },
     "execution_count": 3,
     "metadata": {},
     "output_type": "execute_result"
    }
   ],
   "source": [
    "colon['Actividad'].unique()"
   ]
  },
  {
   "cell_type": "code",
   "execution_count": null,
   "metadata": {},
   "outputs": [],
   "source": [
    "def filter_dataApa(trace, value):\n",
    "    trace['FECHA'] = pd.to_datetime(trace['FECHA'], format = '%d-%m-%Y %H:%M:%S')\n",
    "    # Fecha límite para el filtrado, también como datetime\n",
    "    limit_date = pd.to_datetime(value, format= '%d-%m-%Y %H:%M:%S')\n",
    "\n",
    "    limit_date_minus_10s = limit_date - pd.Timedelta(seconds=10)\n",
    "    trace_filtered = trace[trace['FECHA'] >= limit_date_minus_10s] \n",
    "    print(value)\n",
    "    print(trace_filtered['Actividad'].unique())\n",
    "    print('\\n')\n",
    "    return trace_filtered\n",
    "\n",
    "\n",
    "def crear_dead_bolean(trace):\n",
    "    trace['Defuncion'] = True\n",
    "    return trace\n",
    "\n",
    "\n",
    "def modify_dead_date(trace):\n",
    "    max_date = trace['FECHA'].max()\n",
    "    new_date = max_date + timedelta(days=30)\n",
    "    new_date = pd.to_datetime(new_date, format= '%d-%m-%Y %H:%M:%S')\n",
    "    # Cambiar las fechas asociadas a 'Defunción'\n",
    "    trace.loc[trace['Actividad'] == 'Defunción', ['FECHA', 'FECHA_FIN']] = new_date\n",
    "    return trace"
   ]
  },
  {
   "cell_type": "code",
   "execution_count": null,
   "metadata": {},
   "outputs": [],
   "source": [
    "#recorrer traza a traza\n",
    "# y para cada traza: mirar la fecha de extracción de ese paciente\n",
    "#                  -> filtrar filas de ese trace superiores a esa fecha (DATA_EXTRACT)\n",
    "\n",
    "\n",
    "colon['FECHA'] = pd.to_datetime(colon['FECHA'], format= '%d-%m-%Y %H:%M:%S')\n",
    "colon['FECHA_FIN'] = pd.to_datetime(colon['FECHA_FIN'], format= '%d-%m-%Y %H:%M:%S')\n",
    "grouper = colon.groupby('NASI seudonimizado')\n",
    "\n",
    "dates, traces = [], []\n",
    "dates_dict = {}\n",
    "for name, trace in grouper:\n",
    "    trace['Defuncion'] = False\n",
    "    if 'Prueba laboratorio (APA)' in trace['Actividad'].unique().tolist():\n",
    "        print(name)\n",
    "        df = trace.query(\" Actividad == 'Prueba laboratorio (APA)'\")\n",
    "        value = df['FECHA'].values[0]\n",
    "        dates.append(value)\n",
    "        dates_dict[name] = value\n",
    "        \n",
    "        #!boleano defunciones\n",
    "        if 'Defunción' in trace['Actividad'].unique().tolist():\n",
    "            trace = crear_dead_bolean(trace)\n",
    "            trace = modify_dead_date(trace)\n",
    "            \n",
    "        print('FILTRADO!!!\\n')\n",
    "\n",
    "        traces.append(filter_dataApa(trace, value))\n",
    "\n",
    "colon_filtered = pd.concat(traces)"
   ]
  },
  {
   "cell_type": "code",
   "execution_count": null,
   "metadata": {},
   "outputs": [],
   "source": [
    "list(dates_dict.keys())\n",
    "name = '0067638e545bc471e1f89de1738c1d5c'\n",
    "\n",
    "print(colon['NASI seudonimizado'].nunique())\n",
    "print(colon_filtered['NASI seudonimizado'].nunique())\n",
    "print(colon_filtered.columns)\n",
    "colon_filtered.groupby('Actividad')['NASI seudonimizado'].nunique()"
   ]
  },
  {
   "cell_type": "code",
   "execution_count": null,
   "metadata": {},
   "outputs": [],
   "source": [
    "id = '010b7970230a0be9031b74e8aff8df0f'\n",
    "colon_prueba = colon[colon['NASI seudonimizado'] == id]\n",
    "colon_prueba"
   ]
  },
  {
   "cell_type": "code",
   "execution_count": null,
   "metadata": {},
   "outputs": [],
   "source": [
    "id = '010b7970230a0be9031b74e8aff8df0f'\n",
    "colon_filtered_prueba = colon_filtered[colon_filtered['NASI seudonimizado'] == id]\n",
    "colon_filtered_prueba"
   ]
  },
  {
   "cell_type": "code",
   "execution_count": null,
   "metadata": {},
   "outputs": [],
   "source": [
    "colon_filtered['Defuncion'].value_counts()"
   ]
  },
  {
   "cell_type": "code",
   "execution_count": null,
   "metadata": {},
   "outputs": [],
   "source": [
    "colon_filtered['FECHA'].max()"
   ]
  },
  {
   "cell_type": "code",
   "execution_count": null,
   "metadata": {},
   "outputs": [],
   "source": [
    "# Eliminar '\\n' y '\\r' en valores y cabeceras\n",
    "colon_filtered = colon_filtered.replace({r'\\r': '', r'\\n': ''}, regex=True)"
   ]
  },
  {
   "cell_type": "code",
   "execution_count": null,
   "metadata": {},
   "outputs": [],
   "source": [
    "colon_filtered.to_csv(path_gen+\"Data/processed_data/CancerColon_basico_filtered\"+str(version_out)+\".csv\", date_format=\"%d-%m-%Y %H:%M:%S\", index=False,  encoding=\"UTF-8\", sep = ';')"
   ]
  }
 ],
 "metadata": {
  "kernelspec": {
   "display_name": "base",
   "language": "python",
   "name": "python3"
  },
  "language_info": {
   "codemirror_mode": {
    "name": "ipython",
    "version": 3
   },
   "file_extension": ".py",
   "mimetype": "text/x-python",
   "name": "python",
   "nbconvert_exporter": "python",
   "pygments_lexer": "ipython3",
   "version": "3.11.7"
  }
 },
 "nbformat": 4,
 "nbformat_minor": 2
}
