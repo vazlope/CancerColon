{
 "cells": [
  {
   "cell_type": "code",
   "execution_count": null,
   "metadata": {},
   "outputs": [],
   "source": [
    "import pandas as pd\n",
    "from datetime import datetime, timedelta\n",
    "version_in = 'V0_1'\n",
    "version_out = 'V1_1314'\n",
    "path_gen = \"/home/pol/Escritorio/INVERBIS/2024/CancerColon/\"\n",
    "path_1 = path_gen + \"Data/processed_data/CancerColon_semi\"+str(version_out)+\".csv\"\n",
    "colon = pd.read_csv(path_1, sep= ';')"
   ]
  },
  {
   "cell_type": "code",
   "execution_count": null,
   "metadata": {},
   "outputs": [],
   "source": [
    "print(colon.shape)\n",
    "colon.columns"
   ]
  },
  {
   "cell_type": "code",
   "execution_count": null,
   "metadata": {},
   "outputs": [],
   "source": [
    "colon.groupby('Tipo vía rápida')['NASI seudonimizado'].nunique()"
   ]
  },
  {
   "cell_type": "code",
   "execution_count": null,
   "metadata": {},
   "outputs": [],
   "source": [
    "colon['Actividad'].unique().tolist()"
   ]
  },
  {
   "cell_type": "code",
   "execution_count": null,
   "metadata": {},
   "outputs": [],
   "source": [
    "import numpy as np\n",
    "# Función para convertir a float si es necesario\n",
    "def convertir_a_float(valor):\n",
    "    if isinstance(valor, np.int64):\n",
    "        return int(valor)\n",
    "    else:\n",
    "        return valor  # Si ya es float, lo dejamos como está\n",
    "    \n",
    "\n",
    "def conditions_surgery_quimio(cirugia_index, quimioterapia_index, trace):\n",
    "    # Comprobar las condiciones posibles\n",
    "    if np.isnan(cirugia_index) and not np.isnan(quimioterapia_index):\n",
    "        print('El primer valor es nulo y el segundo no')\n",
    "        indice_cirugia_quimioterapia = quimioterapia_index\n",
    "    elif not np.isnan(cirugia_index) and np.isnan(quimioterapia_index):\n",
    "        print('El primer valor no es nulo y el segundo sí')\n",
    "        indice_cirugia_quimioterapia = cirugia_index\n",
    "    elif not np.isnan(cirugia_index) and not np.isnan(quimioterapia_index):\n",
    "        print('Ambos valores no son nulos')\n",
    "        # Mantener la actividad que ocurra primero\n",
    "        indice_cirugia_quimioterapia = min(cirugia_index, quimioterapia_index)\n",
    "    elif np.isnan(cirugia_index) and np.isnan(quimioterapia_index):\n",
    "        print('Ambos valores son nulos')\n",
    "        indice_cirugia_quimioterapia = len(trace)\n",
    "    \n",
    "    return indice_cirugia_quimioterapia\n",
    "\n",
    "def tc_abdominal(df):\n",
    "    return df[df['Actividade CAPNOR'].str.contains('TC') & df['Actividade CAPNOR'].str.contains('ABDOM')]['Actividade CAPNOR'].unique().tolist()\n",
    "\n",
    "\n",
    "lista_TCAbdominal = tc_abdominal(colon)"
   ]
  },
  {
   "cell_type": "code",
   "execution_count": null,
   "metadata": {},
   "outputs": [],
   "source": [
    "def appointment_post_biopsia(df):\n",
    "    # Agrupar por el identificador de traza\n",
    "    groupon = df.groupby('NASI seudonimizado')\n",
    "    df[\"num_citas_med_interna (Colono-Cirugia/quimio)\"] = 0\n",
    "    df[\"num_citas_oncologia (Colono-Cirugia/quimio)\"] = 0\n",
    "    df[\"num_citas_med_cir_general (Colono-Cirugia/quimio)\"] = 0\n",
    "    df[\"num_citas_digestivo (Colono-Cirugia/quimio)\"] = 0\n",
    "    df[\"num_tac_abdominal (Colono-Cirugia/quimio)\"] = 0\n",
    "    df[\"num_colonoscopia (Colono-Cirugia/quimio)\"] = 0\n",
    "    df[\"num_colonoscopia_VDR (Colono-Cirugia/quimio)\"] = 0\n",
    "\n",
    "    df[\"num_citas_med_interna (Cirugia/quimio-final)\"] = 0\n",
    "    df[\"num_citas_oncologia (Cirugia/quimio-final)\"] = 0\n",
    "    df[\"num_citas_med_cir_general (Cirugia/quimio-final)\"] = 0\n",
    "    df[\"num_citas_digestivo (Cirugia/quimio-final)\"] = 0\n",
    "    df[\"num_tac_abdominal (Cirugia/quimio-final)\"] = 0\n",
    "    df[\"num_colonoscopia (Cirugia/quimio-final)\"] = 0\n",
    "    df[\"num_colonoscopia_VDR (Cirugia/quimio-final)\"] = 0\n",
    "    traces = []\n",
    "    # Iterar sobre cada grupo\n",
    "    for name, trace in groupon:\n",
    "        print(name)\n",
    "        trace = trace.reset_index(drop=True)\n",
    "        # Obtener el índice de la biopsia diagnóstica\n",
    "        biopsia_indice = trace[trace['Actividad'] == 'Biopsia diagnóstica'].index.min()\n",
    "\n",
    "        # Obtener el índice de la primera ocurrencia de 'Cirugía' y 'Quimioterapia' después de la biopsia\n",
    "        cirugia_index = trace[trace.index > biopsia_indice][trace['Actividad'] == 'Cirugia'].index.min()\n",
    "        quimioterapia_index = trace[trace.index > biopsia_indice][trace['Actividad'] == 'Quimioterapia'].index.min()\n",
    "        cirugia_index = convertir_a_float(cirugia_index)\n",
    "        quimioterapia_index = convertir_a_float(quimioterapia_index)\n",
    "        print(cirugia_index)\n",
    "        print(quimioterapia_index)\n",
    "        #logica entre cirugia y quimio\n",
    "        indice_cirugia_quimioterapia = conditions_surgery_quimio(cirugia_index, quimioterapia_index)\n",
    "        print(biopsia_indice,indice_cirugia_quimioterapia)\n",
    "\n",
    "        #Contadores entre biosia y cirugia/quimio\n",
    "        rango_indices = trace.index[biopsia_indice:indice_cirugia_quimioterapia]  # Puedes ajustar el rango según tu necesidad\n",
    "\n",
    "        trace[\"num_citas_med_interna (Colono-Cirugia/quimio)\"] = trace.loc[rango_indices, 'Actividad'].eq('Cita en Medicina interna').sum()\n",
    "        trace[\"num_citas_oncologia (Colono-Cirugia/quimio)\"] = trace.loc[rango_indices, 'Actividad'].eq('Cita en Oncología').sum()\n",
    "        trace[\"num_citas_med_cir_general (Colono-Cirugia/quimio)\"] = trace.loc[rango_indices, 'Actividad'].eq('Cita en Cirugía General').sum()\n",
    "        trace[\"num_citas_digestivo (Colono-Cirugia/quimio)\"] = trace.loc[rango_indices, 'Actividad'].eq('Cita en Digestivo').sum()\n",
    "        trace[\"num_tac_abdominal (Colono-Cirugia/quimio)\"] = trace.loc[rango_indices, 'Actividad'].eq('Cita TAC Abdominal').sum()\n",
    "        trace[\"num_colonoscopia (Colono-Cirugia/quimio)\"] = trace.loc[rango_indices, 'Actividad'].eq('COLONOSCOPIA').sum()\n",
    "        trace[\"num_colonoscopia_VDR (Colono-Cirugia/quimio)\"] = trace.loc[rango_indices, 'Actividad'].eq('COLONOSCOPIA VIA RAPIDA').sum()\n",
    "\n",
    "        #Contadores entre cirugia/quimio y el final\n",
    "        rango_indices = trace.index[indice_cirugia_quimioterapia:]  # Puedes ajustar el rango según tu necesidad\n",
    "\n",
    "        trace[\"num_citas_med_interna (Cirugia/quimio-final)\"] = trace.loc[rango_indices, 'Actividad'].eq('Cita en Medicina interna').sum()\n",
    "        trace[\"num_citas_oncologia (Cirugia/quimio-final)\"] = trace.loc[rango_indices, 'Actividad'].eq('Cita en Oncología').sum()\n",
    "        trace[\"num_citas_med_cir_general (Cirugia/quimio-final)\"] = trace.loc[rango_indices, 'Actividad'].eq('Cita en Cirugía General').sum()\n",
    "        trace[\"num_citas_digestivo (Cirugia/quimio-final)\"] = trace.loc[rango_indices, 'Actividad'].eq('Cita en Digestivo').sum()\n",
    "        trace[\"num_tac_abdominal (Cirugia/quimio-final)\"] = trace.loc[rango_indices, 'Actividad'].eq('Cita TAC Abdominal').sum()\n",
    "        trace[\"num_colonoscopia (Cirugia/quimio-final)\"] = trace.loc[rango_indices, 'Actividad'].eq('COLONOSCOPIA').sum()\n",
    "        trace[\"num_colonoscopia_VDR (Cirugia/quimio-final)\"] = trace.loc[rango_indices, 'Actividad'].eq('COLONOSCOPIA VIA RAPIDA').sum()\n",
    "\n",
    "\n",
    "        traces.append(trace)\n",
    "\n",
    "    return pd.concat(traces)\n",
    "\n",
    "\n",
    "resultados = appointment_post_biopsia(colon) "
   ]
  },
  {
   "cell_type": "code",
   "execution_count": null,
   "metadata": {},
   "outputs": [],
   "source": [
    "def counters_pre_biopsia(df):\n",
    "    # Agrupar por el identificador de traza\n",
    "    groupon = df.groupby('NASI seudonimizado')\n",
    "    df[\"NUM_LAXANTES\"] = 0\n",
    "\n",
    "    traces = []\n",
    "    # Iterar sobre cada grupo\n",
    "    for name, trace in groupon:\n",
    "        print(name)\n",
    "    \n",
    "        # Convertir la columna FECHA a tipo datetime\n",
    "        trace['FECHA'] = pd.to_datetime(trace['FECHA'], format= '%d-%m-%Y %H:%M:%S')\n",
    "        # Encontrar la fecha de la actividad 'Biopsia'\n",
    "        fecha_biopsia = trace.loc[trace['Actividad'] == 'Biopsia diagnóstica', 'FECHA'].iloc[0]\n",
    "        # Restar 6 meses a la fecha de la biopsia\n",
    "        fecha_limite = fecha_biopsia - pd.DateOffset(months=6)\n",
    "        # Filtrar los registros dentro del rango de tiempo\n",
    "        registros_filtrados = trace[(trace['FECHA'] >= fecha_limite) & (trace['FECHA'] <= fecha_biopsia)]\n",
    "        # Contar el número de veces que aparece 'laxante' en el campo 'medicamentos'\n",
    "        num_laxante_formador = registros_filtrados['Subg. químico terapéutico ATC disp'].value_counts().get('LAXANTES FORMADORES DE VOLUMEN', 0)\n",
    "        num_laxante_contacto = registros_filtrados['Subg. químico terapéutico ATC disp'].value_counts().get('LAXANTES DE CONTACTO', 0)\n",
    "        num_laxante_osmotico = registros_filtrados['Subg. químico terapéutico ATC disp'].value_counts().get('LAXANTES OSMÓTICOS', 0)\n",
    "        print(f\"\"\"Número de veces que aparece 'laxante' desde al menos 6 meses hacia atrás desde la actividad 'Biopsia':\\n\n",
    "              {num_laxante_formador}\n",
    "              {num_laxante_contacto}\n",
    "              {num_laxante_osmotico}\"\"\")\n",
    "        print(f\"Numero de laxantes totales {num_laxante_formador + num_laxante_contacto + num_laxante_osmotico}\")\n",
    "        trace[\"NUM_LAXANTES\"] = num_laxante_formador + num_laxante_contacto + num_laxante_osmotico\n",
    "        traces.append(trace)\n",
    "\n",
    "    return pd.concat(traces)\n",
    "\n",
    "\n",
    "df_res = counters_pre_biopsia(colon) "
   ]
  },
  {
   "cell_type": "code",
   "execution_count": null,
   "metadata": {},
   "outputs": [],
   "source": [
    "def counters_quimio(df):\n",
    "    # Agrupar por el identificador de traza\n",
    "    groupon = df.groupby('NASI seudonimizado')\n",
    "    df[\"NUM_QUIMIOS\"] = 0\n",
    "\n",
    "    traces = []\n",
    "    # Iterar sobre cada grupo\n",
    "    for name, trace in groupon:\n",
    "        print(name)\n",
    "    \n",
    "        # Convertir la columna FECHA a tipo datetime\n",
    "        trace['FECHA'] = pd.to_datetime(trace['FECHA'], format= '%d-%m-%Y %H:%M:%S')\n",
    "        # Encontrar la fecha de la actividad 'Biopsia'\n",
    "        fecha_biopsia = trace.loc[trace['Actividad'] == 'Biopsia diagnóstica', 'FECHA'].iloc[0]\n",
    "        # Filtrar los registros dentro del rango de tiempo\n",
    "        registros_filtrados = trace[trace['FECHA'] >= fecha_biopsia]\n",
    "        # Contar el número de veces que aparece 'laxante' en el campo 'medicamentos'\n",
    "        num_quimios = registros_filtrados['Actividad'].value_counts().get('Quimioterapia', 0)\n",
    "        # num_laxante_contacto = registros_filtrados['Subg. químico terapéutico ATC disp'].value_counts().get('LAXANTES DE CONTACTO', 0)\n",
    "        # num_laxante_osmotico = registros_filtrados['Subg. químico terapéutico ATC disp'].value_counts().get('LAXANTES OSMÓTICOS', 0)\n",
    "        print(f\"Número de veces que aparece quimioterapia desde la actividad 'Biopsia':{num_quimios}\")\n",
    "        trace[\"NUM_QUIMIOS\"] = num_quimios\n",
    "        traces.append(trace)\n",
    "\n",
    "    return pd.concat(traces)\n",
    "\n",
    "\n",
    "df_quimios = counters_quimio(colon) "
   ]
  },
  {
   "cell_type": "code",
   "execution_count": null,
   "metadata": {},
   "outputs": [],
   "source": [
    "df_quimios_filter = df_quimios.query(\"NUM_QUIMIOS >= 59\")\n",
    "df_quimios_filter['NASI seudonimizado'].unique()\n"
   ]
  },
  {
   "cell_type": "code",
   "execution_count": null,
   "metadata": {},
   "outputs": [],
   "source": [
    "colon_tolon = colon[colon['Actividad'] == 'Cirugia']\n",
    "colon_tolon['GNA'].unique().tolist()"
   ]
  },
  {
   "cell_type": "code",
   "execution_count": null,
   "metadata": {},
   "outputs": [],
   "source": [
    "colon['GNA'].unique().tolist()"
   ]
  },
  {
   "cell_type": "code",
   "execution_count": null,
   "metadata": {},
   "outputs": [],
   "source": [
    "def surgery_activities(df, attrib_name):\n",
    "    traces = []\n",
    "    grouper_3 = df.groupby('NASI seudonimizado')\n",
    "\n",
    "    for name, trace in grouper_3:\n",
    "        for index in range(len(trace['Actividad'])):\n",
    "\n",
    "            if trace['Actividad'].values[index] == attrib_name:\n",
    "                if trace['Tipo intervención'].values[index] == 'PROGRAMADA': \n",
    "                    trace['Actividad'].values[index] = \"Cirugia Programada\"\n",
    "                elif trace['Tipo intervención'].values[index] == 'URXENTE': \n",
    "                    trace['Actividad'].values[index] = \"Cirugia Urgente\"\n",
    "                                \n",
    "        traces.append(trace)\n",
    "    traces_fix = pd.concat(traces)\n",
    "    #renombre cirugia URXENTE\n",
    "    traces_fix = traces_fix.rename(columns={\"Cirugia PROGRAMADA\": \"Cirugia Programada\", \"Cirugia URXENTE\": \"Cirugia Urgente\"})\n",
    "    #eliminar actividad cita normal\n",
    "    return traces_fix.drop(traces_fix.loc[traces_fix['Actividad'] == attrib_name].index)\n",
    "\n",
    "surgery_colon = surgery_activities(colon, 'Cirugia')"
   ]
  },
  {
   "cell_type": "code",
   "execution_count": null,
   "metadata": {},
   "outputs": [],
   "source": [
    "surgery_colon['Actividad'].unique().tolist()"
   ]
  },
  {
   "cell_type": "code",
   "execution_count": null,
   "metadata": {},
   "outputs": [],
   "source": [
    "groupon = colon.groupby('NASI seudonimizado')\n",
    "\n",
    "for name, trace in groupon:\n",
    "    print(name)\n",
    "    print(trace['Actividad'].values.tolist())\n",
    "    print('\\n')"
   ]
  },
  {
   "cell_type": "code",
   "execution_count": null,
   "metadata": {},
   "outputs": [],
   "source": [
    "\n",
    "def create_initial_activity(df):\n",
    "    lista = ['Cita en Medicina interna', 'Cita en Oncología', 'Cita en Cirugía General', 'Cita en Digestivo']\n",
    "    # Agrupar por el identificador de traza\n",
    "    groupon = df.groupby('NASI seudonimizado')\n",
    "\n",
    "    traces = []\n",
    "    # Iterar sobre cada grupo\n",
    "    for name, trace in groupon:\n",
    "\n",
    "        # Crear una máscara booleana para identificar las filas donde 'Actividad' es 'biopsia'\n",
    "        mask_biopsia = trace['Actividad'] == 'Biopsia diagnóstica'\n",
    "        # Crear una máscara booleana para identificar las filas donde 'Actividad' está en la lista\n",
    "        mask_lista = trace['Actividad'].isin(lista)\n",
    "        # Crear una máscara booleana que marque las filas que deben eliminarse\n",
    "        mask_eliminar = mask_biopsia.cumsum() == 0\n",
    "        # Aplicar la máscara para eliminar las filas anteriores a 'biopsia' excepto las que están en la lista\n",
    "        trace = trace[~(mask_eliminar & ~mask_lista)]\n",
    "        trace = trace.reset_index(drop=True)\n",
    "\n",
    "        primer_indice = trace.index.to_list()[0]\n",
    "        print(primer_indice)\n",
    "        biopsia_indice = trace[trace['Actividad'] == 'Biopsia diagnóstica'].index.min()\n",
    "        print(biopsia_indice)\n",
    "\n",
    "        if (biopsia_indice - primer_indice) > 1:\n",
    "            print('resta', biopsia_indice)\n",
    "            trace = trace.iloc[biopsia_indice-1:]\n",
    "        traces.append(trace)\n",
    "\n",
    "    return pd.concat(traces)           \n",
    "\n",
    "initial_fix = create_initial_activity(colon)  "
   ]
  },
  {
   "cell_type": "code",
   "execution_count": null,
   "metadata": {},
   "outputs": [],
   "source": [
    "import numpy as np\n",
    "# Función para convertir a float si es necesario\n",
    "def convertir_a_float(valor):\n",
    "    if isinstance(valor, np.int64):\n",
    "        return int(valor)\n",
    "    else:\n",
    "        return valor  # Si ya es float, lo dejamos como está\n",
    "    \n",
    "\n",
    "def conditions_surgery_quimio(cirugia_index, quimioterapia_index):\n",
    "    # Comprobar las condiciones posibles\n",
    "    if np.isnan(cirugia_index) and not np.isnan(quimioterapia_index):\n",
    "        print('El primer valor es nulo y el segundo no')\n",
    "        indice_cirugia_quimioterapia = quimioterapia_index\n",
    "    elif not np.isnan(cirugia_index) and np.isnan(quimioterapia_index):\n",
    "        print('El primer valor no es nulo y el segundo sí')\n",
    "        indice_cirugia_quimioterapia = cirugia_index\n",
    "    elif not np.isnan(cirugia_index) and not np.isnan(quimioterapia_index):\n",
    "        print('Ambos valores no son nulos')\n",
    "        # Mantener la actividad que ocurra primero\n",
    "        indice_cirugia_quimioterapia = min(cirugia_index, quimioterapia_index)\n",
    "    elif np.isnan(cirugia_index) and np.isnan(quimioterapia_index):\n",
    "        print('Ambos valores son nulos')\n",
    "        indice_cirugia_quimioterapia = len(trace)\n",
    "    \n",
    "    return indice_cirugia_quimioterapia\n",
    "    \n"
   ]
  },
  {
   "cell_type": "code",
   "execution_count": null,
   "metadata": {},
   "outputs": [],
   "source": [
    "def appointment_post_biopsia(df):\n",
    "    # Agrupar por el identificador de traza\n",
    "    groupon = df.groupby('NASI seudonimizado')\n",
    "\n",
    "    traces = []\n",
    "    # Iterar sobre cada grupo\n",
    "    for name, trace in groupon:\n",
    "        print(name)\n",
    "        trace = trace.reset_index(drop=True)\n",
    "        # Obtener el índice de la biopsia diagnóstica\n",
    "        biopsia_indice = trace[trace['Actividad'] == 'Biopsia diagnóstica'].index.min()\n",
    "\n",
    "        # Obtener el índice de la primera ocurrencia de 'Cirugía' y 'Quimioterapia' después de la biopsia\n",
    "        cirugia_index = trace[trace.index > biopsia_indice][trace['Actividad'] == 'Cirugia'].index.min()\n",
    "        quimioterapia_index = trace[trace.index > biopsia_indice][trace['Actividad'] == 'Quimioterapia'].index.min()\n",
    "        cirugia_index = convertir_a_float(cirugia_index)\n",
    "        quimioterapia_index = convertir_a_float(quimioterapia_index)\n",
    "        print(cirugia_index)\n",
    "        print(quimioterapia_index)\n",
    "        #logica entre cirugia y quimio\n",
    "        indice_cirugia_quimioterapia = conditions_surgery_quimio(cirugia_index, quimioterapia_index)\n",
    "        print(biopsia_indice,indice_cirugia_quimioterapia)\n",
    "\n",
    "        interna = trace[trace.index > indice_cirugia_quimioterapia][trace['Actividad'] == 'Cita en Medicina interna'].index\n",
    "        Oncologia = trace[trace.index > indice_cirugia_quimioterapia][trace['Actividad'] == 'Cita en Oncología'].index\n",
    "        general = trace[trace.index > indice_cirugia_quimioterapia][trace['Actividad'] == 'Cita en Cirugía General'].index\n",
    "        digestivo = trace[trace.index > indice_cirugia_quimioterapia][trace['Actividad'] == 'Cita en Digestivo'].index\n",
    "        medico = trace[trace.index > biopsia_indice][trace['Actividad'] == 'Visita médico familia'].index\n",
    "\n",
    "        # cirugia_index = convertir_a_float(cirugia_index)\n",
    "        # quimioterapia_index = convertir_a_float(quimioterapia_index)\n",
    "        list_to_lists = []\n",
    "        list_to_lists.extend(interna)\n",
    "        list_to_lists.extend(Oncologia)\n",
    "        list_to_lists.extend(general)\n",
    "        list_to_lists.extend(digestivo)\n",
    "        list_to_lists.extend(medico)\n",
    "        print(list_to_lists)\n",
    "    \n",
    "        trace = trace.drop(list_to_lists)\n",
    "        traces.append(trace)\n",
    "\n",
    "    return pd.concat(traces)\n",
    "\n",
    "\n",
    "resultados = appointment_post_biopsia(colon) "
   ]
  },
  {
   "cell_type": "code",
   "execution_count": null,
   "metadata": {},
   "outputs": [],
   "source": [
    "import pandas as pd\n",
    "from datetime import datetime, timedelta\n",
    "\n",
    "def counters_pre_biopsia(df):\n",
    "    # Agrupar por el identificador de traza\n",
    "    groupon = df.groupby('NASI seudonimizado')\n",
    "\n",
    "    traces = []\n",
    "    # Iterar sobre cada grupo\n",
    "    for name, trace in groupon:\n",
    "        print(name)\n",
    "    \n",
    "        # Convertir la columna FECHA a tipo datetime\n",
    "        df['FECHA'] = pd.to_datetime(df['FECHA'])\n",
    "        # Encontrar la fecha de la actividad 'Biopsia'\n",
    "        fecha_biopsia = df.loc[df['actividad'] == 'Biopsia', 'FECHA'].iloc[0]\n",
    "        # Restar 6 meses a la fecha de la biopsia\n",
    "        fecha_limite = fecha_biopsia - pd.DateOffset(months=6)\n",
    "        # Filtrar los registros dentro del rango de tiempo\n",
    "        registros_filtrados = df[(df['FECHA'] >= fecha_limite) & (df['FECHA'] <= fecha_biopsia)]\n",
    "        # Contar el número de veces que aparece 'laxante' en el campo 'medicamentos'\n",
    "        num_laxante = registros_filtrados['medicamentos'].value_counts().get('laxante', 0)\n",
    "        print(\"Número de veces que aparece 'laxante' desde al menos 6 meses hacia atrás desde la actividad 'Biopsia':\", num_laxante)\n",
    "        traces.append(trace)\n",
    "\n",
    "    return pd.concat(traces)\n",
    "\n",
    "\n",
    "df_res = counters_pre_biopsia(df) "
   ]
  },
  {
   "cell_type": "code",
   "execution_count": null,
   "metadata": {},
   "outputs": [],
   "source": [
    "resultados_cirugia = resultados[resultados['Actividad'] == 'Cirugia']\n",
    "grouponi = resultados_2.groupby('NASI seudonimizado')\n",
    "\n",
    "for name, trace in grouponi:\n",
    "    print(name)\n",
    "    print(trace['Actividad'].values.tolist())\n",
    "    print('\\n')"
   ]
  },
  {
   "cell_type": "code",
   "execution_count": null,
   "metadata": {},
   "outputs": [],
   "source": [
    "def only_first_quimio(df):\n",
    "    groupon = df.groupby('NASI seudonimizado')\n",
    "    traces = []\n",
    "    # Iterar sobre cada grupo\n",
    "    for name, trace in groupon:\n",
    "        \n",
    "        trace = trace.reset_index(drop=True)\n",
    "        indices_quimioterapia = trace.loc[trace['Actividad'] == 'Quimioterapia'].index\n",
    "        if not indices_quimioterapia.empty:\n",
    "            print(name)\n",
    "            delete_index = indices_quimioterapia[1:]\n",
    "            print(delete_index)\n",
    "            trace = trace.drop(delete_index)\n",
    "        traces.append(trace)\n",
    "    return pd.concat(traces)\n",
    "\n",
    "resultados_2 = only_first_quimio(resultados)\n"
   ]
  },
  {
   "cell_type": "code",
   "execution_count": null,
   "metadata": {},
   "outputs": [],
   "source": [
    "def cita_extracion(df):\n",
    "    # Filtrar el DataFrame para obtener solo las filas donde la actividad es 'Cita' o 'extraccion'\n",
    "    df_filtered = df[df['Actividad'].isin(['Cita', 'extraccion'])]\n",
    "\n",
    "    # Contar cuántas veces aparece cada valor de fecha asociada para cada ID\n",
    "    counts = df_filtered.groupby(['NASI seudonimizado', 'Actividad', 'FECHA']).size().reset_index(name='counts')\n",
    "\n",
    "    # Filtrar los resultados para encontrar los ID donde la fecha asociada a 'Cita' es igual a la fecha asociada a 'extraccion'\n",
    "    matching_ids = counts[counts['Actividad'] == 'Data cita'].merge(counts[counts['Actividad'] == 'DATA EXTRACCIÓN'], on='NASI seudonimizado', suffixes=('_Cita', '_extraccion'))\n",
    "    matching_ids = matching_ids[matching_ids['FECHA_Cita'] == matching_ids['FECHA_extraccion']]\n",
    "\n",
    "    # Mostrar los ID resultantes\n",
    "    print(matching_ids['NASI seudonimizado'].unique())\n",
    "\n",
    "\n",
    "cita_extracion(colon)\n"
   ]
  },
  {
   "cell_type": "code",
   "execution_count": null,
   "metadata": {},
   "outputs": [],
   "source": [
    "def tc_abdominal(df):\n",
    "    return df[df['Actividade CAPNOR'].str.contains('TC') & df['Actividade CAPNOR'].str.contains('ABDOM')]['Actividade CAPNOR'].unique().tolist()\n",
    "\n",
    "\n",
    "lista_TCAbdominal = tc_abdominal(colon)\n",
    "lista_TCAbdominal"
   ]
  },
  {
   "cell_type": "code",
   "execution_count": null,
   "metadata": {},
   "outputs": [],
   "source": [
    "colon['Actividad'].unique().tolist()"
   ]
  },
  {
   "cell_type": "code",
   "execution_count": null,
   "metadata": {},
   "outputs": [],
   "source": [
    "def waiting_list_duration(df, enter_list, exit_list):\n",
    "    traces = []\n",
    "    df['Duracion Lista Espera'] = 0\n",
    "    grouper_3 = df.groupby('NASI seudonimizado')\n",
    "    #pasar ambas columnas de fecha a datatime\n",
    "    df[enter_list] = pd.to_datetime(df[enter_list], format= '%d-%m-%Y %H:%M:%S')\n",
    "    df[exit_list] = pd.to_datetime(df[exit_list], format= '%d-%m-%Y %H:%M:%S')\n",
    "\n",
    "    for name, trace in grouper_3:\n",
    "        for index in range(len(trace['Actividad'])):\n",
    "\n",
    "            if trace['Actividad'].values[index] == enter_list: #! trazas con lista de espera de entrada\n",
    "                trace['Duracion Lista Espera'] = (trace[exit_list] - trace[enter_list]).dt.days\n",
    "                trace['Duracion Lista Espera'] = trace['Duracion Lista Espera'].fillna(0)\n",
    "                trace['Duracion Lista Espera'] = trace['Duracion Lista Espera'].astype(int) \n",
    "        \n",
    "        traces.append(trace)\n",
    "    traces_fix = pd.concat(traces)\n",
    "    #eliminar actividades lista espera\n",
    "    traces_fix.drop(traces_fix.loc[traces_fix['Actividad'] == enter_list].index)\n",
    "    traces_fix.drop(traces_fix.loc[traces_fix['Actividad'] == exit_list].index)\n",
    "    return traces_fix\n",
    "\n",
    "\n",
    "\n",
    "\n",
    "colon_hardcodeado_2 = waiting_list_duration(colon, 'Data inclusión', 'Data remate')"
   ]
  },
  {
   "cell_type": "code",
   "execution_count": null,
   "metadata": {},
   "outputs": [],
   "source": [
    "colon_hardcodeado_2[['NASI seudonimizado', 'FECHA', 'FECHA_FIN','Actividad', 'Duracion Lista Espera']].head(10)\n",
    "colon_hardcodeado_2['Duracion Lista Espera'].unique()"
   ]
  },
  {
   "cell_type": "code",
   "execution_count": null,
   "metadata": {},
   "outputs": [],
   "source": [
    "#! Añadir actividad cita con apellido del tipo de Cita y dejar unicamente los relacionados con COLONOSCOPIA u otros importantes\n",
    "#'GNA','Actividade CAPNOR', 'Código Prestación', 'Prestación','Tipo vía rápida',\n",
    "colon_citas = colon.query(\"Actividad == 'Data prescrición'\")\n",
    "capnor = colon_citas.groupby('Actividade CAPNOR')['NASI seudonimizado'].nunique().to_dict()\n",
    "gna = colon_citas.groupby('GNA')['NASI seudonimizado'].nunique().to_dict()\n",
    "# Ordenar el diccionario de mayor a menor por sus valores\n",
    "capnor_ordenado = dict(sorted(capnor.items(), key=lambda item: item[1], reverse=True))\n",
    "gna_ordenado = dict(sorted(gna.items(), key=lambda item: item[1], reverse=True))\n",
    "\n",
    "for i, j in zip(capnor_ordenado.keys(),capnor_ordenado.values()):\n",
    "    print(f'{i} -> {j}')"
   ]
  },
  {
   "cell_type": "code",
   "execution_count": null,
   "metadata": {},
   "outputs": [],
   "source": [
    "#Quedarme con las actividades de tipo cita si es de tipo colonoscopia - Separar entre colonoscopia normal y VDR\n",
    "#PASOS\n",
    "#   1. Colocar a actividad Cita el apellido de su campo CAPNOR\n",
    "#   2. Solo mantener aquellas que el apellido sea Colonoscopia o VDR u otras importantes\n",
    "#   3. Con los datos en bruto, sacar ids traza que tienen colonoscopia y si son normal o VDR y colocar posteriormente como atributos\n",
    "\n",
    "def surname_Appointments(df, attrib_name):\n",
    "    traces = []\n",
    "    ids_colonoscopy = []\n",
    "    df['VDR'] = False\n",
    "    df['Colonoscopia'] = False\n",
    "    lista = ['COLONOSCOPIA', 'COLONOSCOPIA VIA RAPIDA']\n",
    "    grouper_3 = df.groupby('NASI seudonimizado')\n",
    "\n",
    "    for name, trace in grouper_3:\n",
    "        for index in range(len(trace['Actividad'])):\n",
    "\n",
    "            if trace['Actividad'].values[index] == attrib_name:\n",
    "                if trace['Actividade CAPNOR'].values[index] in lista: \n",
    "                    trace['Actividad'].values[index] = 'Cita ' + trace['Actividade CAPNOR'].values[index]\n",
    "                    trace['Colonoscopia'] = True\n",
    "                    if trace['Tipo vía rápida'].values[index] == \"VIA RAPIDA COLON              \":\n",
    "                        trace['VDR'] = True\n",
    "\n",
    "                    \n",
    "        traces.append(trace)\n",
    "    traces_fix = pd.concat(traces)\n",
    "    #eliminar actividad cita normal\n",
    "    return traces_fix.drop(traces_fix.loc[traces_fix['Actividad'] == attrib_name].index)\n",
    "\n",
    "\n",
    "colon_hardcodeado = surname_Appointments(colon, 'Data prescrición')"
   ]
  },
  {
   "cell_type": "code",
   "execution_count": null,
   "metadata": {},
   "outputs": [],
   "source": [
    "colon_hardcodeado['Actividad'].unique()\n",
    "colon_hardcodeado['Colonoscopia'].unique()"
   ]
  },
  {
   "cell_type": "code",
   "execution_count": null,
   "metadata": {},
   "outputs": [],
   "source": [
    "colon_hardcodeado['NASI seudonimizado'].nunique()"
   ]
  },
  {
   "cell_type": "code",
   "execution_count": null,
   "metadata": {},
   "outputs": [],
   "source": [
    "colon_hardcodeado['VDR'].unique()"
   ]
  },
  {
   "cell_type": "code",
   "execution_count": null,
   "metadata": {},
   "outputs": [],
   "source": [
    "colon.groupby('Tipo vía rápida')['NASI seudonimizado'].nunique()"
   ]
  },
  {
   "cell_type": "code",
   "execution_count": null,
   "metadata": {},
   "outputs": [],
   "source": [
    "colon_hardcodeado.groupby('VDR')['NASI seudonimizado'].nunique()"
   ]
  },
  {
   "cell_type": "code",
   "execution_count": null,
   "metadata": {},
   "outputs": [],
   "source": [
    "def no_colonoscopy(df):\n",
    "    filtro_sin = ~df['Actividade CAPNOR'].isin(['COLONOSCOPIA', 'COLONOSCOPIA VIA RAPIDA', 'COLONOSCOPIA CON BIOPSIA'])\n",
    "    filtro_con = df['Actividade CAPNOR'].isin(['COLONOSCOPIA', 'COLONOSCOPIA VIA RAPIDA', 'COLONOSCOPIA CON BIOPSIA'])\n",
    "    # print(df.shape)\n",
    "    # print(df['NASI seudonimizado'].nunique())\n",
    "    colon_colonoscopia = df[filtro_con]\n",
    "    # print(colon_colonoscopia.shape)\n",
    "    # print(colon_colonoscopia['NASI seudonimizado'].nunique())\n",
    "    lista_validos = colon_colonoscopia['NASI seudonimizado'].unique().tolist()\n",
    "\n",
    "    colon_sin_colonoscopia = df[filtro_sin]\n",
    "    # print(colon_sin_colonoscopia.shape)\n",
    "    # print(colon_sin_colonoscopia['NASI seudonimizado'].nunique())\n",
    "    return lista_validos"
   ]
  },
  {
   "cell_type": "code",
   "execution_count": null,
   "metadata": {},
   "outputs": [],
   "source": [
    "lista  = no_colonoscopy(colon)\n",
    "print(lista)\n",
    "coloner = colon[colon['NASI seudonimizado'].isin(lista)]"
   ]
  },
  {
   "cell_type": "code",
   "execution_count": null,
   "metadata": {},
   "outputs": [],
   "source": [
    "coloner['NASI seudonimizado'].nunique()"
   ]
  },
  {
   "cell_type": "code",
   "execution_count": null,
   "metadata": {},
   "outputs": [],
   "source": [
    "colon['Actividad'].unique()"
   ]
  },
  {
   "cell_type": "code",
   "execution_count": null,
   "metadata": {},
   "outputs": [],
   "source": [
    "def filter_dataApa(trace, value):\n",
    "    trace['FECHA'] = pd.to_datetime(trace['FECHA'], format = '%d-%m-%Y %H:%M:%S')\n",
    "    # Fecha límite para el filtrado, también como datetime\n",
    "    limit_date = pd.to_datetime(value, format= '%d-%m-%Y %H:%M:%S')\n",
    "\n",
    "    limit_date_minus_10s = limit_date - pd.Timedelta(seconds=10)\n",
    "    trace_filtered = trace[trace['FECHA'] >= limit_date_minus_10s] \n",
    "    print(value)\n",
    "    print(trace_filtered['Actividad'].unique())\n",
    "    print('\\n')\n",
    "    return trace_filtered\n",
    "\n",
    "\n",
    "def crear_dead_bolean(trace):\n",
    "    trace['Defuncion'] = True\n",
    "    return trace\n",
    "\n",
    "\n",
    "def modify_dead_date(trace):\n",
    "    max_date = trace['FECHA'].max()\n",
    "    new_date = max_date + timedelta(days=30)\n",
    "    new_date = pd.to_datetime(new_date, format= '%d-%m-%Y %H:%M:%S')\n",
    "    # Cambiar las fechas asociadas a 'Defunción'\n",
    "    trace.loc[trace['Actividad'] == 'Defunción', ['FECHA', 'FECHA_FIN']] = new_date\n",
    "    return trace"
   ]
  },
  {
   "cell_type": "code",
   "execution_count": null,
   "metadata": {},
   "outputs": [],
   "source": [
    "#recorrer traza a traza\n",
    "# y para cada traza: mirar la fecha de extracción de ese paciente\n",
    "#                  -> filtrar filas de ese trace superiores a esa fecha (DATA_EXTRACT)\n",
    "\n",
    "def filter_extraction(df):\n",
    "\n",
    "    df['FECHA'] = pd.to_datetime(df['FECHA'], format= '%d-%m-%Y %H:%M:%S')\n",
    "    df['FECHA_FIN'] = pd.to_datetime(df['FECHA_FIN'], format= '%d-%m-%Y %H:%M:%S')\n",
    "    grouper = df.groupby('NASI seudonimizado')\n",
    "\n",
    "    dates, traces = [], []\n",
    "    dates_dict = {}\n",
    "    for name, trace in grouper:\n",
    "        trace['Defuncion'] = False\n",
    "        if 'Prueba laboratorio (APA)' in trace['Actividad'].unique().tolist():\n",
    "            print(name)\n",
    "            df = trace.query(\" Actividad == 'Prueba laboratorio (APA)'\")\n",
    "            value = df['FECHA'].values[0]\n",
    "            dates.append(value)\n",
    "            dates_dict[name] = value\n",
    "            \n",
    "            #!boleano defunciones\n",
    "            if 'Defunción' in trace['Actividad'].unique().tolist():\n",
    "                trace = crear_dead_bolean(trace)\n",
    "                trace = modify_dead_date(trace)\n",
    "                \n",
    "            print('FILTRADO!!!\\n')\n",
    "\n",
    "            traces.append(filter_dataApa(trace, value))\n",
    "\n",
    "    return pd.concat(traces)\n",
    "\n",
    "colon_filtered = filter_extraction(colon)"
   ]
  },
  {
   "cell_type": "code",
   "execution_count": null,
   "metadata": {},
   "outputs": [],
   "source": [
    "# def boolAttrib_to_EmptyAttrib(df, atrrib):\n",
    "#     #recorro cada traza del df\n",
    "#     grouper = df.groupby('NASI seudonimizado')\n",
    "#     traces = []\n",
    "#     for name, trace in grouper:\n",
    "#         values = trace[attrib].dropna().astype(str).unique().tolist()\n",
    "#         trace[attrib]  = ', '.join(values)\n",
    "#         traces.append(trace)\n",
    "        \n",
    "\n",
    "#     return pd.concat(traces)\n",
    "    \n",
    "\n",
    "# attribs = ['Prioridade', 'GNA', 'Actividade CAPNOR', 'Prestación', 'Tipo vía rápida',\t'Detalle tipo actividade','Tipo programación']\n",
    "# for attrib in attribs:\n",
    "#     colon_filtered = boolAttrib_to_EmptyAttrib(colon_filtered, attrib)\n"
   ]
  },
  {
   "cell_type": "code",
   "execution_count": null,
   "metadata": {},
   "outputs": [],
   "source": [
    "colon_filtered = colon_filtered[colon_filtered['Actividad'] != 'Preescripcion consultas y pruebas']"
   ]
  },
  {
   "cell_type": "code",
   "execution_count": null,
   "metadata": {},
   "outputs": [],
   "source": [
    "colon_filtered['Actividade CAPNOR'].unique()"
   ]
  },
  {
   "cell_type": "code",
   "execution_count": null,
   "metadata": {},
   "outputs": [],
   "source": [
    "def filter_important_drugs(df):\n",
    "    important_drugs = ['LAXANTES OSMÓTICOS','LAXANTES FORMADORES DE VOLUMEN', 'ENEMAS']\n",
    "    return df[df['Subg. químico terapéutico ATC disp'].isin(important_drugs)]"
   ]
  },
  {
   "cell_type": "code",
   "execution_count": null,
   "metadata": {},
   "outputs": [],
   "source": [
    "def drugs_info(df):\n",
    "    # #! Función que conteara el numero de veces que va a buscar medicamentos, y cuanto le cuesta en total estos medicamentos\n",
    "    grouper_2 = colon_filtered.groupby('NASI seudonimizado')\n",
    "\n",
    "    colon_filtered['Nº de compras farmaceuticas'] = 0\n",
    "    colon_filtered['Coste total medicamentos'] = 0\n",
    "    traces = []\n",
    "    for name, trace in grouper_2: # Prezo PVP nomen disp\n",
    "        cont = 0 \n",
    "        try:\n",
    "            cont = trace['Actividad'].value_counts()['Dispensación Farmacia Oncologica']\n",
    "            print(cont)\n",
    "            trace['Nº de compras farmaceuticas'] = cont\n",
    "            trace['Coste total medicamentos'] = trace['Prezo PVP nomen disp'].sum()\n",
    "        except KeyError:\n",
    "            trace['Nº de compras farmaceuticas'] = 0\n",
    "            trace['Coste total medicamentos'] = 0\n",
    "        traces.append(trace)\n",
    "    \n",
    "    return pd.concat(traces)\n",
    "\n",
    "colon_filtered  = drugs_info(colon_filtered)"
   ]
  },
  {
   "cell_type": "code",
   "execution_count": null,
   "metadata": {},
   "outputs": [],
   "source": [
    "id = 'edf8341be887aa3da8126840589d7cb9'\n",
    "colon_filtered_prueba = colon_filtered[colon_filtered['NASI seudonimizado'] == id]\n",
    "colon_filtered_prueba['Actividad'].unique()"
   ]
  },
  {
   "cell_type": "code",
   "execution_count": null,
   "metadata": {},
   "outputs": [],
   "source": [
    "def filter_important_drugs(df):\n",
    "    for group_id, group_data in df.groupby('ID'):\n",
    "        if not group_data['Algun_medicamento_importante'].any():\n",
    "            # Eliminar las filas donde la actividad sea 'Dispensación medicamento ATC'\n",
    "            df = df.drop(group_data[group_data['Actividad'] == 'Dispensación medicamento ATC'].index)\n",
    "    return df\n",
    "\n",
    "\n",
    "dfss = filter_important_drugs(colon_filtered)\n"
   ]
  },
  {
   "cell_type": "code",
   "execution_count": null,
   "metadata": {},
   "outputs": [],
   "source": [
    "colon_filtered[['NASI seudonimizado', 'FECHA', 'FECHA_FIN','Actividad', 'Actividade CAPNOR','Subg. químico terapéutico ATC disp', 'Nº de compras farmaceuticas', 'Coste total medicamentos']]"
   ]
  },
  {
   "cell_type": "code",
   "execution_count": null,
   "metadata": {},
   "outputs": [],
   "source": [
    "iterator = colon_filtered.groupby('NASI seudonimizado')\n",
    "\n",
    "only_traces = []\n",
    "for name, trace in iterator:\n",
    "    activ = trace['Actividad'].unique().tolist()\n",
    "    if len(activ) == 1:\n",
    "        only_traces.append(name)\n",
    "\n",
    "print(only_traces)"
   ]
  },
  {
   "cell_type": "code",
   "execution_count": null,
   "metadata": {},
   "outputs": [],
   "source": [
    "colon_filtered['Defuncion'].value_counts()"
   ]
  },
  {
   "cell_type": "code",
   "execution_count": null,
   "metadata": {},
   "outputs": [],
   "source": [
    "colon_filtered['FECHA'].max()"
   ]
  },
  {
   "cell_type": "code",
   "execution_count": null,
   "metadata": {},
   "outputs": [],
   "source": [
    "colon_filtered"
   ]
  },
  {
   "cell_type": "code",
   "execution_count": null,
   "metadata": {},
   "outputs": [],
   "source": [
    "# Eliminar '\\n' y '\\r' en valores y cabeceras\n",
    "#colon_filtered = colon_filtered.replace({r'\\r': '', r'\\n': ''}, regex=True)"
   ]
  },
  {
   "cell_type": "code",
   "execution_count": null,
   "metadata": {},
   "outputs": [],
   "source": [
    "colon_filtered.to_csv(path_gen+\"Data/processed_data/CancerColon_basico_filtered\"+str(version_out)+\".csv\", date_format=\"%d-%m-%Y %H:%M:%S\", index=False,  encoding=\"UTF-8\", sep = ';')"
   ]
  },
  {
   "cell_type": "code",
   "execution_count": null,
   "metadata": {},
   "outputs": [],
   "source": [
    "no_colonoscopy(colon_filtered)"
   ]
  }
 ],
 "metadata": {
  "kernelspec": {
   "display_name": "base",
   "language": "python",
   "name": "python3"
  },
  "language_info": {
   "codemirror_mode": {
    "name": "ipython",
    "version": 3
   },
   "file_extension": ".py",
   "mimetype": "text/x-python",
   "name": "python",
   "nbconvert_exporter": "python",
   "pygments_lexer": "ipython3",
   "version": "3.11.7"
  }
 },
 "nbformat": 4,
 "nbformat_minor": 2
}
